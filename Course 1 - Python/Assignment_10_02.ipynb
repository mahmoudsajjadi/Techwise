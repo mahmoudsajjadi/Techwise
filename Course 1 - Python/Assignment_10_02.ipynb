{
  "nbformat": 4,
  "nbformat_minor": 0,
  "metadata": {
    "colab": {
      "provenance": [],
      "include_colab_link": true
    },
    "kernelspec": {
      "name": "python3",
      "display_name": "Python 3"
    }
  },
  "cells": [
    {
      "cell_type": "markdown",
      "metadata": {
        "id": "view-in-github",
        "colab_type": "text"
      },
      "source": [
        "<a href=\"https://colab.research.google.com/github/mahmoudsajjadi/Techwise/blob/main/Assignment_10_02.ipynb\" target=\"_parent\"><img src=\"https://colab.research.google.com/assets/colab-badge.svg\" alt=\"Open In Colab\"/></a>"
      ]
    },
    {
      "cell_type": "markdown",
      "source": [
        "# Assignment 10-02\n",
        "\n",
        "Given a string s, find the length of the longest substring without repeating characters.\n",
        "\n",
        "Example 1:\n",
        "\n",
        "Input: s = \"abcabcbb\"\n",
        "\n",
        "Output: 3 Explanation: The answer is \"abc\", with the length of 3.\n",
        "\n",
        "Example 2:\n",
        "\n",
        "Input: s = \"bbbbb\"\n",
        "\n",
        "Output: 1\n",
        "\n",
        "Explanation: The answer is \"b\", with the length of 1.\n",
        "\n",
        "Example 3:\n",
        "\n",
        "Input: s = \"pwwkew\"\n",
        "\n",
        "Output: 3\n",
        "\n",
        "Explanation: The answer is \"wke\", with the length of 3. Notice that the answer must be a substring, \"pwke\" is not a substring."
      ],
      "metadata": {
        "id": "8kU1SMdbaGPP"
      }
    },
    {
      "cell_type": "code",
      "source": [
        "def length_longest_substring(s: str) -> int:\n",
        "    i = j = max_len = 0\n",
        "    n = len(s)\n",
        "    \n",
        "    while i < n and j < n:\n",
        "        if is_unique(s[i:j+1]):\n",
        "            j += 1\n",
        "            max_len = max(max_len, j - i)\n",
        "        else:\n",
        "            i += 1\n",
        "            \n",
        "    return max_len\n",
        "\n",
        "def is_unique(s):\n",
        "    chars = set()\n",
        "    for c in s:\n",
        "        if c in chars:\n",
        "            return False\n",
        "        chars.add(c)\n",
        "    return True\n",
        "\n",
        "print(length_longest_substring('abcabcbb'))\n",
        "print(length_longest_substring('bbbbb'))\n",
        "print(length_longest_substring('pwwkew'))"
      ],
      "metadata": {
        "id": "-kgm-uzFaF01",
        "colab": {
          "base_uri": "https://localhost:8080/"
        },
        "outputId": "84adc73d-7141-4890-d9a3-84e60cb38b39"
      },
      "execution_count": null,
      "outputs": [
        {
          "output_type": "stream",
          "name": "stdout",
          "text": [
            "3\n",
            "1\n",
            "3\n"
          ]
        }
      ]
    }
  ]
}
