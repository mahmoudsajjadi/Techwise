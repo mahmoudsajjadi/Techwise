{
  "nbformat": 4,
  "nbformat_minor": 0,
  "metadata": {
    "colab": {
      "provenance": [],
      "include_colab_link": true
    },
    "kernelspec": {
      "name": "python3",
      "display_name": "Python 3"
    }
  },
  "cells": [
    {
      "cell_type": "markdown",
      "metadata": {
        "id": "view-in-github",
        "colab_type": "text"
      },
      "source": [
        "<a href=\"https://colab.research.google.com/github/mahmoudsajjadi/Techwise/blob/main/Assignment_11_02.ipynb\" target=\"_parent\"><img src=\"https://colab.research.google.com/assets/colab-badge.svg\" alt=\"Open In Colab\"/></a>"
      ]
    },
    {
      "cell_type": "markdown",
      "source": [
        "##Assignment_11-02\n",
        "\n",
        "program to convert arabic to roman\n",
        "\n",
        "Example:\n",
        "\n",
        "arabic2roman(5) --> V\n",
        "\n",
        "arabic2roman(9) --> IX"
      ],
      "metadata": {
        "id": "8kU1SMdbaGPP"
      }
    },
    {
      "cell_type": "code",
      "source": [
        "def arabic2roman(a:int) -> str:\n",
        "    roman_values = {1: 'I', 4: 'IV', 5: 'V', 9: 'IX', 10: 'X', 40: 'XL', 50: 'L', 90: 'XC', 100: 'C', 400: 'CD', 500: 'D', 900: 'CM', 1000: 'M'}\n",
        "    roman_num = ''\n",
        "    #print(sorted(roman_values.keys(), reverse=True))\n",
        "    #print(sorted(roman_values.items(), reverse=True))\n",
        "    for value, symbol in sorted(roman_values.items(), reverse=True):\n",
        "        while a >= value:\n",
        "            roman_num += symbol\n",
        "            a -= value\n",
        "    return roman_num\n",
        "\n",
        "arabic2roman(9)\n",
        "arabic2roman(2020)"
      ],
      "metadata": {
        "id": "-kgm-uzFaF01",
        "colab": {
          "base_uri": "https://localhost:8080/",
          "height": 36
        },
        "outputId": "2f965bf3-6ae7-4c53-c3d0-a0f071be6edf"
      },
      "execution_count": null,
      "outputs": [
        {
          "output_type": "execute_result",
          "data": {
            "text/plain": [
              "'MMXX'"
            ],
            "application/vnd.google.colaboratory.intrinsic+json": {
              "type": "string"
            }
          },
          "metadata": {},
          "execution_count": 13
        }
      ]
    }
  ]
}
