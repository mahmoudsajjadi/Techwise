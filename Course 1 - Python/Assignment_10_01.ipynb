{
  "nbformat": 4,
  "nbformat_minor": 0,
  "metadata": {
    "colab": {
      "provenance": [],
      "include_colab_link": true
    },
    "kernelspec": {
      "name": "python3",
      "display_name": "Python 3"
    }
  },
  "cells": [
    {
      "cell_type": "markdown",
      "metadata": {
        "id": "view-in-github",
        "colab_type": "text"
      },
      "source": [
        "<a href=\"https://colab.research.google.com/github/mahmoudsajjadi/Techwise/blob/main/Assignment_10_01.ipynb\" target=\"_parent\"><img src=\"https://colab.research.google.com/assets/colab-badge.svg\" alt=\"Open In Colab\"/></a>"
      ]
    },
    {
      "cell_type": "markdown",
      "source": [
        "# Assignment 10-01\n",
        "\n",
        "##rock, paper and scissors\n",
        "\n",
        "The traditional Rock-Paper-Scissors is a two-player game, in which each player simultaneously chooses, either rock, paper or scissors, given that, rock crushes scissors, scissors cuts paper, and paper covers rock. Based on the rules, the winner is decided."
      ],
      "metadata": {
        "id": "8kU1SMdbaGPP"
      }
    },
    {
      "cell_type": "markdown",
      "source": [
        "Implement a function which accepts two strings (player_one and player_two)⁠ as arguments and returns an integer stating the winner of the game - Rock, Paper, Scissors.\n",
        "\n",
        "Each argument will contain a single string: \"Rock\", \"Paper\", or \"Scissors\". Return the winner according to the following rules:\n",
        "\n",
        "* Rock beats Scissors\n",
        "* Scissors beats Paper\n",
        "* Paper beats Rock\n",
        "\n",
        "    > If player_one wins, return 1\n",
        "\n",
        "    > If player_two wins, return -1 and \n",
        "\n",
        "    > If both player_one and player_two are the same, return 0"
      ],
      "metadata": {
        "id": "70d_nbftZGtK"
      }
    },
    {
      "cell_type": "code",
      "source": [
        "def rps_evaluation(player_one: str, player_two:str) -> int:\n",
        "    winning_choices = {\n",
        "        'Rock': 'Scissors',\n",
        "        'Scissors': 'Paper',\n",
        "        'Paper': 'Rock'\n",
        "    }\n",
        "    if player_one == player_two:\n",
        "        return 0\n",
        "    elif winning_choices[player_one] == player_two:\n",
        "        return 1\n",
        "    else:\n",
        "        return -1\n",
        "\n",
        "rps_evaluation('Paper','Scissors')"
      ],
      "metadata": {
        "id": "-kgm-uzFaF01",
        "colab": {
          "base_uri": "https://localhost:8080/"
        },
        "outputId": "56821245-85d8-4659-c83b-3cfa5ab23c1f"
      },
      "execution_count": null,
      "outputs": [
        {
          "output_type": "execute_result",
          "data": {
            "text/plain": [
              "-1"
            ]
          },
          "metadata": {},
          "execution_count": 3
        }
      ]
    }
  ]
}
