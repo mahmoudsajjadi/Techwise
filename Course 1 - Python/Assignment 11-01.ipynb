## Assignment_11-01

Implement a function that converts roman number to arabic number

Example:

 > roman2arabic("V") --> 5

 > roman2arabic("IX") --> 9


def roman2arabic(r: str) -> int:
    roman_values = {'I': 1, 'V': 5, 'X': 10, 'L': 50, 'C': 100, 'D': 500, 'M': 1000}
    arabic_num = 0
    prev_value = 0
    for char in r:
        current_value = roman_values[char]
        if current_value > prev_value:
            arabic_num -= prev_value
            current_value -= prev_value
        arabic_num += current_value
        prev_value = current_value
    return arabic_num

print(roman2arabic("V"))
print(roman2arabic("IX"))
