{
  "nbformat": 4,
  "nbformat_minor": 0,
  "metadata": {
    "colab": {
      "provenance": [],
      "include_colab_link": true
    },
    "kernelspec": {
      "name": "python3",
      "display_name": "Python 3"
    }
  },
  "cells": [
    {
      "cell_type": "markdown",
      "metadata": {
        "id": "view-in-github",
        "colab_type": "text"
      },
      "source": [
        "<a href=\"https://colab.research.google.com/github/mahmoudsajjadi/Techwise/blob/main/TWC1_Assignment_11_01.ipynb\" target=\"_parent\"><img src=\"https://colab.research.google.com/assets/colab-badge.svg\" alt=\"Open In Colab\"/></a>"
      ]
    },
    {
      "cell_type": "markdown",
      "source": [
        "## Assignment_11-01\n",
        "\n",
        "Implement a function that converts roman number to arabic number\n",
        "\n",
        "Example:\n",
        "\n",
        " > roman2arabic(\"V\") --> 5\n",
        "\n",
        " > roman2arabic(\"IX\") --> 9"
      ],
      "metadata": {
        "id": "8kU1SMdbaGPP"
      }
    },
    {
      "cell_type": "code",
      "source": [
        "def roman2arabic(r: str) -> int:\n",
        "    roman_values = {'I': 1, 'V': 5, 'X': 10, 'L': 50, 'C': 100, 'D': 500, 'M': 1000}\n",
        "    arabic_num = 0\n",
        "    prev_value = 0\n",
        "    for char in r:\n",
        "        current_value = roman_values[char]\n",
        "        if current_value > prev_value:\n",
        "            arabic_num -= prev_value\n",
        "            current_value -= prev_value\n",
        "        arabic_num += current_value\n",
        "        prev_value = current_value\n",
        "    return arabic_num\n",
        "\n",
        "print(roman2arabic(\"V\"))\n",
        "print(roman2arabic(\"IX\"))"
      ],
      "metadata": {
        "id": "-kgm-uzFaF01",
        "colab": {
          "base_uri": "https://localhost:8080/"
        },
        "outputId": "a9390bec-995a-4359-d2c3-5a151b33c11a"
      },
      "execution_count": null,
      "outputs": [
        {
          "output_type": "stream",
          "name": "stdout",
          "text": [
            "5\n",
            "9\n"
          ]
        }
      ]
    }
  ]
}